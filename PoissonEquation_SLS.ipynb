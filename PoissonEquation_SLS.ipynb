{
 "cells": [
  {
   "cell_type": "markdown",
   "metadata": {},
   "source": [
    "Importing Important Libraries"
   ]
  },
  {
   "cell_type": "code",
   "execution_count": 20,
   "metadata": {},
   "outputs": [],
   "source": [
    "import numpy as np\n",
    "import time\n",
    "import matplotlib.pyplot as plt"
   ]
  },
  {
   "cell_type": "markdown",
   "metadata": {},
   "source": [
    "2.1 DIRECT METHODS\n",
    "2.1.1 Exact solution & source term\n"
   ]
  },
  {
   "cell_type": "code",
   "execution_count": 21,
   "metadata": {},
   "outputs": [],
   "source": [
    "\n",
    "# For sparse operations\n",
    "from scipy.sparse import diags, eye, kron\n",
    "from scipy.sparse.linalg import spsolve\n",
    "\n",
    "def u_exact_soln(x, y): # u_exact_soln(x,y) = sin(pi*x)*sin(pi*y)\n",
    "  \n",
    "    return np.sin(np.pi*x)*np.sin(np.pi*y)\n",
    "\n",
    "def f_source(x, y):     # f_source(x,y) =Delta u = -2*pi^2*sin(pi*x)*sin(pi*y)\n",
    "    \n",
    "    return 2.0*(np.pi**2)*np.sin(np.pi*x)*np.sin(np.pi*y)"
   ]
  },
  {
   "cell_type": "markdown",
   "metadata": {},
   "source": [
    "2.1.2 Build 1D Laplacian (Dirichlet)\n"
   ]
  },
  {
   "cell_type": "code",
   "execution_count": 22,
   "metadata": {},
   "outputs": [],
   "source": [
    "def create_1d_laplacian(N, h): # Build (N-1)x(N-1) 1D Laplacian with Dirichlet Boundary Conditions.. h = 1.0/N\n",
    "    main_val =  2.0/(h*h)       # Got this by Taylor series expansion.\n",
    "    off_val  = -1.0/(h*h)\n",
    "    main_diag = main_val * np.ones(N-1)     # It creates (N-1) main diagonal elements\n",
    "    off_diag  = off_val  * np.ones(N-2)     # It creates (N-2) off diagonal elements, representing the subdiagonal and superdiagonal.\n",
    "\n",
    "    T = diags(                              # It creates a sparse matrix in CSC format (CSC = Compressed Sparse Column)\n",
    "        [off_diag, main_diag, off_diag],\n",
    "        offsets=[-1, 0, 1],\n",
    "        shape=(N-1, N-1),                   # It defines the shape of the matrix\n",
    "        format='csc'                       # It is creating a compressed sparse column (CSC) format, which is memory-efficient and optimized for solving linear systems.\n",
    "                                            #Only stores non zero elements..\n",
    "    )\n",
    "    return T                            # Returning the 1D Laplacian matrix, The matrix for the internal points (excluding boundary points).."
   ]
  },
  {
   "cell_type": "markdown",
   "metadata": {},
   "source": [
    "2.1.3 Build 2D Laplacian using Kronecker"
   ]
  },
  {
   "cell_type": "code",
   "execution_count": 23,
   "metadata": {},
   "outputs": [],
   "source": [
    "\n",
    "def create_2d_laplacian_sparse(Nx, Ny, dx, dy):\n",
    "    \"\"\"\n",
    "    Here we r building the (Nx-1)*(Ny-1) x (Nx-1)*(Ny-1) Laplacian matrix\n",
    "    (Dirichlet) via Kronecker products:\n",
    "       A = (I_y ⨂ T_x) + (T_y ⨂ I_x). (IMPORTANT)     #I_y ⨂ T_x handles the x direction deri and T_y ⨂ I_x handles the y direction derivatives..\n",
    "    \"\"\"\n",
    "    T_x = create_1d_laplacian(Nx, dx)    # It creates the 1D Laplacian matrix foe x direction\n",
    "    T_y = create_1d_laplacian(Ny, dy)   # It creates the 1D Laplacian matrix for y direction\n",
    "    Ix = eye(Nx-1, format='csc')    # It creates the identity matrix for x direction\n",
    "    Iy = eye(Ny-1, format='csc')    # It creates the identity matrix for y direction\n",
    "    return kron(Iy, T_x, format='csc') + kron(T_y, Ix, format='csc')       # It returns the 2D Laplacian matrix by taking the Kronecker product of the 1D Laplacian matrices in x and y directions.\n"
   ]
  },
  {
   "cell_type": "markdown",
   "metadata": {},
   "source": [
    "2.1.4 Build the RHS vector"
   ]
  },
  {
   "cell_type": "code",
   "execution_count": 24,
   "metadata": {},
   "outputs": [
    {
     "data": {
      "text/plain": [
       "\"\\nReason behind skipping the boundary condn is that the Poisson equation is solved only for interior points..\\nAlso, Boundary values are fixed by Dirichlet conditions, so they are not included in b.\\nAnd that's why the loop starts from 1 and ends at N-1 {Not Including Nx and Ny}  :)\\n\""
      ]
     },
     "execution_count": 24,
     "metadata": {},
     "output_type": "execute_result"
    }
   ],
   "source": [
    "def compute_rhs(Nx, Ny, dx, dy, f_func):    # It returns the RHS vector of length (Nx-1)*(Ny-1), evaluating f at each interior point (i,j).\n",
    " \n",
    "    b = np.zeros((Nx-1)*(Ny-1))             # It creates a 1D vector b of length (Nx-1)*(Ny-1). (with all zeros)\n",
    "\n",
    "    def idx(i, j):                          # This converts a 2D grid index (i,j) to a 1D index in the vector b.\n",
    "        return j*(Nx-1) + i                 # The row index is j and the column index is i.. The 1D index is computed as: j*(Nx-1) + i.\n",
    "\n",
    "    for j in range(1, Ny):              # Here we are looping through the interior points (i,j) (Exc the boundary points)\n",
    "        yj = j*dy                       # Position along y-axis\n",
    "        for i in range(1, Nx):\n",
    "            xi = i*dx                   # Position along x-axis\n",
    "            row = idx(i-1, j-1)       # Convert (i, j) to 1D index\n",
    "            b[row] = f_func(xi, yj)     \n",
    "    return b\n",
    "\n",
    "'''\n",
    "Reason behind skipping the boundary condn is that the Poisson equation is solved only for interior points..\n",
    "Also, Boundary values are fixed by Dirichlet conditions, so they are not included in b.\n",
    "And that's why the loop starts from 1 and ends at N-1 {Not Including Nx and Ny}  :)\n",
    "'''"
   ]
  },
  {
   "cell_type": "markdown",
   "metadata": {},
   "source": [
    "2.1.5 Direct solve (Sparse vs. Dense)"
   ]
  },
  {
   "cell_type": "code",
   "execution_count": 25,
   "metadata": {},
   "outputs": [],
   "source": [
    "def solve_poisson_sparse(Nx, Ny, f_func):                   # Uses a sparse matrix and spsolve(), which is memory-efficient.\n",
    "    dx = 1.0/Nx\n",
    "    dy = 1.0/Ny \n",
    "    A_sparse = create_2d_laplacian_sparse(Nx, Ny, dx, dy)   # Construct the Sparse 2D Laplacian Matrix\n",
    "    b = compute_rhs(Nx, Ny, dx, dy, f_func)                 # Calls compute_rhs(), which evaluates the source function f(x,y) at interior grid points. \n",
    "                                                            # This forms the right-hand side (RHS) vector in the equation: A u = b.\n",
    "    u_vec = spsolve(A_sparse, b)                            # Solves the linear system A u = b using the sparse solver spsolve(). \n",
    "                                                            # This is much faster and more memory-efficient than using dense solvers.\n",
    "\n",
    "    U = np.reshape(u_vec, (Ny-1, Nx-1))                     # Reshapes the solution vector u_vec into a 2D grid U of shape (Ny-1) x (Nx-1).\n",
    "    return U\n",
    "\n",
    "def solve_poisson_dense(Nx, Ny, f_func):                    # This function solves the Poisson equation using a full (dense) matrix, which is slow for large grids. (Old Method)\n",
    "   \n",
    "    dx = 1.0 / Nx\n",
    "    dy = 1.0 / Ny\n",
    "    Nint = (Nx-1)*(Ny-1)                                # Creates a full (dense) matrix of size (Nx-1)*(Ny-1) x (Nx-1)*(Ny-1).\n",
    "                                                        # This matrix represents the 2D Laplacian operator.\n",
    "\n",
    "    A_dense = np.zeros((Nint, Nint))                    # Filled with zeros initially.\n",
    "\n",
    "    def idx(i, j):                                      # This function converts a 2D grid index (i,j) to a 1D index in the matrix A_dense.\n",
    "        return j*(Nx-1) + i\n",
    "\n",
    "    Cx = 1.0/(dx*dx)\n",
    "    Cy = 1.0/(dy*dy)\n",
    "    main_diag = 2*(Cx + Cy)                    # The main diagonal element of the 2D Laplacian matrix is 2*(Cx + Cy).\n",
    "\n",
    "    for j in range(Ny-1):\n",
    "        for i in range(Nx-1):\n",
    "            row = idx(i, j)\n",
    "            A_dense[row, row] = main_diag\n",
    "            if i > 0:       A_dense[row, idx(i-1, j)]   = -Cx\n",
    "            if i < Nx-2:    A_dense[row, idx(i+1, j)]   = -Cx\n",
    "            if j > 0:       A_dense[row, idx(i, j-1)]   = -Cy\n",
    "            if j < Ny-2:    A_dense[row, idx(i, j+1)]   = -Cy\n",
    "\n",
    "    b = compute_rhs(Nx, Ny, dx, dy, f_func)                 # Computes the RHS vector just like in the sparse solver.\n",
    "    u_vec = np.linalg.solve(A_dense, b)\n",
    "    U = np.reshape(u_vec, (Ny-1, Nx-1))\n",
    "    return U\n"
   ]
  },
  {
   "cell_type": "markdown",
   "metadata": {},
   "source": [
    "2.2 ITERATIVE METHODS\n",
    "2.2.1 Implement Jacobi & Gauss–Seidel\n",
    "\n",
    "\n",
    "\n",
    "Jacobi Method:- \n",
    "1) Convergence :- Slower\n",
    "2) Memory Use :- More memory (needs old vector)\n",
    "3) Best for\tLarge systems with parallel execution\n",
    "\n",
    "Gauss Seidel Method:-\n",
    "1) Convergence :- Faster \n",
    "2) Memory Use :- Less memory (overwrites old values)\n",
    "3) Faster sequential convergence"
   ]
  },
  {
   "cell_type": "code",
   "execution_count": 26,
   "metadata": {},
   "outputs": [],
   "source": [
    "def jacobi_method(A, b, max_iter=5000, tol=1e-8):  # The Jacobi method iteratively updates the solution without modifying previous values. The equation: A x = b is solved for x.\n",
    "                                                     # Ax = b can be rewritten as x^{k+1} = D^{-1}(b - R x^k), where A = D + R.\n",
    "    n = len(b)\n",
    "    x = np.zeros_like(b)  # Initial guess (zero vector)\n",
    "    D = np.diag(A)        # D = Diag part of A, which is a diagonal matrix. (D^{-1} is the inverse of the diagonal matrix D.)\n",
    "    R = A - np.diagflat(D)  # R=A - D contains the off-diagonal elements.\n",
    "    \n",
    "    residual_history = []\n",
    "    \n",
    "    for k in range(max_iter):\n",
    "        x_new = (b - np.dot(R, x)) / D  # Jacobi update step\n",
    "        residual = np.linalg.norm(x_new - x, ord=np.inf)  # Check max difference\n",
    "        \n",
    "        residual_history.append(residual)\n",
    "        \n",
    "        if residual < tol:  # Convergence check\n",
    "            return x_new, k, residual_history\n",
    "        \n",
    "        x = x_new  # Update solution\n",
    "\n",
    "    return x, max_iter, residual_history  # Return max_iter if not converged\n",
    "\n",
    "# ----------------------------------==-===---------------------------------------------------------------------------------------===-------\n",
    "\n",
    "def gauss_seidel_method(A, b, max_iter=5000, tol=1e-8): # The Gauss-Seidel method updates the solution by using the most recent values. The equation: A x = b is solved for x.\n",
    "    \"\"\"\n",
    "    Implements Gauss-Seidel iteration:\n",
    "        x[i]^(k+1) = (1/A_ii) * ( b_i - sum_{j<i} A_ij * x[j]^(k+1) - sum_{j>i} A_ij * x[j]^(k) )\n",
    "    Returns: x (solution), iteration count, residual history.\n",
    "    \"\"\"\n",
    "    n = len(b)\n",
    "    x = np.zeros_like(b)  # Initial guess\n",
    "    residual_history = []\n",
    "\n",
    "    for k in range(max_iter):\n",
    "        x_old = np.copy(x)  # Store previous iteration\n",
    "        \n",
    "        for i in range(n):\n",
    "            sum1 = np.dot(A[i, :i], x[:i])    # Contribution from already updated values\n",
    "            sum2 = np.dot(A[i, i+1:], x_old[i+1:])  # Contribution from old values\n",
    "            x[i] = (b[i] - sum1 - sum2) / A[i, i]  # Update step\n",
    "\n",
    "        residual = np.linalg.norm(x - x_old, ord=np.inf)  # Check max difference\n",
    "        residual_history.append(residual)\n",
    "\n",
    "        if residual < tol:  # Convergence check\n",
    "            return x, k, residual_history\n",
    "\n",
    "    return x, max_iter, residual_history  # Return max_iter if not converged\n"
   ]
  },
  {
   "cell_type": "markdown",
   "metadata": {},
   "source": [
    "2.2.2 Convergence discussion (theoretical, no code here)\n",
    "I have added this in PPT why Jacobi/G–S converge..\n",
    "\n",
    "2.2.3 Measuring cost (# iterations & cost/iteration)\n",
    "Again, I have added this in PPT that how to count flops or measure iteration time."
   ]
  },
  {
   "cell_type": "markdown",
   "metadata": {},
   "source": [
    "2.2.4 Implement SOR method"
   ]
  },
  {
   "cell_type": "code",
   "execution_count": 94,
   "metadata": {},
   "outputs": [],
   "source": [
    "import numpy as np\n",
    "\n",
    "def sor_method(A, b, omega=1.5, max_iter=5000, tol=1e-8):\n",
    "    \"\"\"\n",
    "    Successive Over-Relaxation (SOR) method for solving Ax = b.\n",
    "\n",
    "    Parameters:\n",
    "        A (numpy.ndarray): Coefficient matrix (NxN)\n",
    "        b (numpy.ndarray): Right-hand side vector (Nx1)\n",
    "        omega (float): Relaxation factor (1.0 = Gauss-Seidel, typically 1.1 to 1.8 for SOR)\n",
    "        max_iter (int): Maximum number of iterations\n",
    "        tol (float): Convergence tolerance\n",
    "\n",
    "    Returningg:\n",
    "        x (numpy.ndarray): Approximate solution vector\n",
    "        iteration_count (int): Number of iterations before convergence\n",
    "        residual_history (list): Residual norms at each iteration\n",
    "    \"\"\"\n",
    "    n = len(b)\n",
    "    x = np.zeros_like(b, dtype=float)  # Initial guess\n",
    "    residual_history = []\n",
    "\n",
    "    # Check if the matrix is ill-conditioned\n",
    "    cond_number = np.linalg.cond(A)\n",
    "    if cond_number > 1e10:\n",
    "        print(f\"Warning: The matrix is ill-conditioned (Condition Number = {cond_number:.2e}).\")\n",
    "\n",
    "    for k in range(max_iter):\n",
    "        x_old = np.copy(x)  # Store previous iteration\n",
    "        \n",
    "        for i in range(n):\n",
    "            if abs(A[i, i]) < 1e-10:  # Prevent division by very small values\n",
    "                raise ValueError(f\"Zero or near-zero diagonal element detected at index {i}: A[{i}, {i}] = {A[i, i]}\")\n",
    "\n",
    "            sum1 = np.dot(A[i, :i], x[:i])      # Contribution from already updated values\n",
    "            sum2 = np.dot(A[i, i+1:], x_old[i+1:])  # Contribution from old values\n",
    "\n",
    "            update = (omega / A[i, i]) * (b[i] - sum1 - sum2)  # Compute update\n",
    "            x[i] = np.clip(x_old[i] + update, -1e10, 1e10)  # Prevent overflow\n",
    "\n",
    "        # Compute residual and check for convergence\n",
    "        residual = np.linalg.norm(x - x_old, ord=np.inf)\n",
    "        residual_history.append(residual)\n",
    "\n",
    "        if residual < tol:  # Convergence check\n",
    "            return x, k + 1, residual_history  # Return when solution converges\n",
    "\n",
    "    print(\"Warning: Maximum iterations reached without full convergence.\")\n",
    "    return x, max_iter, residual_history  # If max_iter is reached, return last solution\n",
    "\n",
    "\n",
    "\n",
    "\n",
    "# def sor_method(A, b, omega=1.0, max_iter=5000, tol=1e-8):\n",
    "#     \"\"\"\n",
    "#     Successive Over-Relaxation (SOR) iteration:\n",
    "#       x[i]^{k+1} = x[i]^k + omega/a_{ii} *\n",
    "#         ( b[i] - sum_{j< i} a_{ij} x[j]^{k+1}\n",
    "#                 - sum_{j>=i} a_{ij} x[j]^{k} )\n",
    "#     Return: x, iteration_count, residual_history\n",
    "#     \"\"\"\n",
    "#     # Placeholder skeleton\n",
    "#     import numpy as np\n",
    "#     x = np.zeros_like(b)\n",
    "#     # ...\n",
    "#     return x, 0, []\n"
   ]
  },
  {
   "cell_type": "markdown",
   "metadata": {},
   "source": [
    "2.2.5 Plotting residual decreases, etc.\n"
   ]
  },
  {
   "cell_type": "code",
   "execution_count": 95,
   "metadata": {},
   "outputs": [],
   "source": [
    "\n",
    "def plot_residuals(res_jacobi, res_gs, res_sor): # Plots the residual history of the Jacobi, Gauss-Seidel, and SOR methods.\n",
    "   \n",
    "    plt.figure()\n",
    "    plt.semilogy(res_jacobi, label='Jacobi')\n",
    "    plt.semilogy(res_gs,     label='Gauss-Seidel')\n",
    "    plt.semilogy(res_sor,    label='SOR')\n",
    "    plt.xlabel(\"Iteration\")\n",
    "    plt.ylabel(\"Residual norm (log scale)\")\n",
    "    plt.legend()\n",
    "    plt.show()"
   ]
  },
  {
   "cell_type": "code",
   "execution_count": 96,
   "metadata": {},
   "outputs": [
    {
     "name": "stdout",
     "output_type": "stream",
     "text": [
      "\n",
      "Grid: 50 x 50, Interior Size = 2401\n",
      "  Sparse Solver Time: 0.010 s\n",
      "  Dense  Solver Time: 0.125 s\n",
      "  Max Difference (Sparse-Dense) = 5.995204e-15\n",
      "\n",
      "Grid: 100 x 100, Interior Size = 9801\n",
      "  Sparse Solver Time: 0.038 s\n",
      "  Dense  Solver Time: 3.202 s\n",
      "  Max Difference (Sparse-Dense) = 9.658940e-15\n"
     ]
    },
    {
     "data": {
      "image/png": "[encoded data removed]",
      "text/plain": [
       "<Figure size 600x400 with 1 Axes>"
      ]
     },
     "metadata": {},
     "output_type": "display_data"
    },
    {
     "name": "stdout",
     "output_type": "stream",
     "text": [
      "\n",
      "Jacobi finished in 1133 iterations.\n",
      "Gauss-Seidel finished in 595 iterations.\n",
      "SOR(omega=1.5) finished in 28 iterations.\n"
     ]
    }
   ],
   "source": [
    "# MAIN / DRIVER CODE\n",
    "\n",
    "if __name__==\"__main__\":\n",
    "\n",
    "    # 2.1 DIRECT METHODS: Dense vs. Sparse\n",
    "    sizes = [50, 100]  # Adjust as needed\n",
    "    times_sparse = []\n",
    "    times_dense  = []\n",
    "\n",
    "    for N in sizes:\n",
    "        print(f\"\\nGrid: {N} x {N}, Interior Size = {(N-1)*(N-1)}\") # Print grid size\n",
    "\n",
    "        #--- Sparse solve ---\n",
    "        t0 = time.time()                            # Start the timer\n",
    "        U_sp = solve_poisson_sparse(N, N, f_source) # Solve the Poisson equation using the sparse solver\n",
    "        t1 = time.time()                    # Stop the timer                    \n",
    "        t_sp = t1 - t0                    # Compute the time taken\n",
    "        times_sparse.append(t_sp)      # Store the time taken\n",
    "\n",
    "        #--- Dense solve ---\n",
    "        t0 = time.time()                            # Start the timer\n",
    "        U_dn = solve_poisson_dense(N, N, f_source)  # Solve the Poisson equation using the dense solver\n",
    "        t1 = time.time()                # Stop the timer\n",
    "        t_dn = t1 - t0              # Compute the time taken\n",
    "        times_dense.append(t_dn)    # Store the time taken\n",
    "\n",
    "        # Print times\n",
    "        print(f\"  Sparse Solver Time: {t_sp:.3f} s\")\n",
    "        print(f\"  Dense  Solver Time: {t_dn:.3f} s\")\n",
    "\n",
    "        # Check difference\n",
    "        diff = np.max(np.abs(U_sp - U_dn))                      # Compute the maximum difference between the sparse and dense solutions.\n",
    "        print(f\"  Max Difference (Sparse-Dense) = {diff:e}\")\n",
    "\n",
    "    # Plot timing comparison (dense vs. sparse) \n",
    "    plt.figure(figsize=(6,4))\n",
    "    plt.plot(sizes, times_sparse, 'o--', label='Sparse Solver', color='blue')\n",
    "    plt.plot(sizes, times_dense,  'o--', label='Dense Solver',  color='red')\n",
    "    plt.xlabel(\"N (Grid Dimension)\")\n",
    "    plt.ylabel(\"Time (s)\")\n",
    "    plt.title(\"2D Poisson: Sparse vs. Dense Direct Solve\")\n",
    "    plt.grid(True)\n",
    "    plt.legend()\n",
    "    plt.tight_layout()\n",
    "    plt.show()\n",
    "\n",
    "    # 2.2 ITERATIVE METHODS DEMO (Placeholders)\n",
    "    # Eg:- Lets build a small system and solve with Jacobi, GS, SOR:\n",
    "    N_test = 20\n",
    "    dx = 1.0 / N_test\n",
    "    dy = 1.0 / N_test\n",
    "    A_test = create_2d_laplacian_sparse(N_test, N_test, dx, dy)         # Create a small 2D Laplacian matrix\n",
    "    b_test = compute_rhs(N_test, N_test, dx, dy, f_source)              # Compute the RHS vector\n",
    "\n",
    "    A_test_dense = A_test.toarray()                 # Convert to dense matrix for iterative methods\n",
    "\n",
    "    # Jacobi \n",
    "    x_jac, it_jac, res_jac = jacobi_method(A_test_dense, b_test)\n",
    "    print(f\"\\nJacobi finished in {it_jac} iterations.\")\n",
    "\n",
    "    # Gauss-Seidel\n",
    "    x_gs, it_gs, res_gs = gauss_seidel_method(A_test_dense, b_test)\n",
    "    print(f\"Gauss-Seidel finished in {it_gs} iterations.\")\n",
    "\n",
    "    # SOR (with optimal omega)\n",
    "    omega = 1.5  # Example guess\n",
    "    x_sor, it_sor, res_sor = sor_method(A_test_dense, b_test, omega=omega)      # Solve with SOR\n",
    "    print(f\"SOR(omega={omega}) finished in {it_sor} iterations.\") # Print iteration counts\n"
   ]
  },
  {
   "cell_type": "code",
   "execution_count": null,
   "metadata": {},
   "outputs": [],
   "source": []
  }
 ],
 "metadata": {
  "kernelspec": {
   "display_name": "Python 3",
   "language": "python",
   "name": "python3"
  },
  "language_info": {
   "codemirror_mode": {
    "name": "ipython",
    "version": 3
   },
   "file_extension": ".py",
   "mimetype": "text/x-python",
   "name": "python",
   "nbconvert_exporter": "python",
   "pygments_lexer": "ipython3",
   "version": "3.12.2"
  }
 },
 "nbformat": 4,
 "nbformat_minor": 2
}
