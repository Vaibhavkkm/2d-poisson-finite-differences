{
 "cells": [
  {
   "cell_type": "code",
   "execution_count": 1,
   "metadata": {},
   "outputs": [
    {
     "name": "stdout",
     "output_type": "stream",
     "text": [
      "Grid setup complete!\n",
      "Number of grid points: Nx = 50, Ny = 50\n",
      "Grid spacing: h = 0.02040816326530612\n"
     ]
    }
   ],
   "source": [
    "import numpy as np\n",
    "\n",
    "# Parameters for grid setup\n",
    "Nx, Ny = 50, 50  # Number of grid points along x and y\n",
    "x = np.linspace(0, 1, Nx)  # Grid points along x\n",
    "y = np.linspace(0, 1, Ny)  # Grid points along y\n",
    "X, Y = np.meshgrid(x, y)  # Create the 2D grid\n",
    "h = x[1] - x[0]  # Grid spacing (assume uniform spacing)\n",
    "\n",
    "# Displaying the grid information\n",
    "print(\"Grid setup complete!\")\n",
    "print(f\"Number of grid points: Nx = {Nx}, Ny = {Ny}\")\n",
    "print(f\"Grid spacing: h = {h}\")\n"
   ]
  },
  {
   "cell_type": "code",
   "execution_count": 2,
   "metadata": {},
   "outputs": [
    {
     "name": "stdout",
     "output_type": "stream",
     "text": [
      "Matrix A created. Shape: (2500, 2500)\n"
     ]
    }
   ],
   "source": [
    "# %pip install scipy\n",
    "\n",
    "import numpy as np\n",
    "from scipy.sparse import spdiags, kron, eye\n",
    "\n",
    "# Discretizing the Laplacian in 2D\n",
    "def create_poisson_matrix(Nx, Ny, h):\n",
    "    # 1D Laplacian stencil: [-1, 2, -1]\n",
    "    main_diag = 2 * np.ones(Nx)\n",
    "    off_diag = -1 * np.ones(Nx - 1)\n",
    "\n",
    "    # Padding the off diagonal to make it the same length as main_diag\n",
    "    padded_off_diag = np.zeros(Nx)\n",
    "    padded_off_diag[1:] = off_diag\n",
    "    padded_off_diag[-1] = 0  # Padding the last element to ensure correct length\n",
    "\n",
    "    # Diagonal entries in a 2D array\n",
    "    diagonals = np.vstack([padded_off_diag, main_diag, padded_off_diag])\n",
    "\n",
    "    # Positions of the diagonals\n",
    "    positions = [-1, 0, 1]\n",
    "\n",
    "    # Create 1D Laplacian matrix\n",
    "    T = spdiags(diagonals, positions, Nx, Nx)\n",
    "\n",
    "    # 2D Laplacian matrix using Kronecker product\n",
    "    I = eye(Ny)  # Identity matrix\n",
    "    A = (kron(I, T) + kron(T, I)) / h**2\n",
    "\n",
    "    return A\n",
    "\n",
    "# Parameters for grid\n",
    "Nx, Ny = 50, 50  # Number of interior points in x and y directions\n",
    "h = 1 / (Nx - 1)  # Grid spacing\n",
    "\n",
    "# Create the Poisson matrix A\n",
    "A = create_poisson_matrix(Nx, Ny, h)\n",
    "print(\"Matrix A created. Shape:\", A.shape)\n"
   ]
  },
  {
   "cell_type": "code",
   "execution_count": null,
   "metadata": {},
   "outputs": [],
   "source": []
  }
 ],
 "metadata": {
  "kernelspec": {
   "display_name": "Python 3",
   "language": "python",
   "name": "python3"
  },
  "language_info": {
   "codemirror_mode": {
    "name": "ipython",
    "version": 3
   },
   "file_extension": ".py",
   "mimetype": "text/x-python",
   "name": "python",
   "nbconvert_exporter": "python",
   "pygments_lexer": "ipython3",
   "version": "3.12.2"
  }
 },
 "nbformat": 4,
 "nbformat_minor": 2
}
